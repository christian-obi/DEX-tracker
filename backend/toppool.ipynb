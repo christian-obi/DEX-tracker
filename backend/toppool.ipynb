{
 "cells": [
  {
   "cell_type": "markdown",
   "id": "e40d6f3f",
   "metadata": {},
   "source": [
    "### get pool statistics using coingecko API"
   ]
  },
  {
   "cell_type": "code",
   "execution_count": 2,
   "id": "175e5222",
   "metadata": {},
   "outputs": [],
   "source": [
    "# necessary imports\n",
    "import requests # Importing the requests library for making HTTP requests\n",
    "import pandas as pd # Importing pandas for data manipulation and analysis\n",
    "import json # Importing json for handling JSON data\n",
    "import os # Importing os for operating system dependent functionality\n",
    "from dotenv import load_dotenv # Importing load_dotenv to load environment variables from a .env file\n"
   ]
  },
  {
   "cell_type": "code",
   "execution_count": 3,
   "id": "2eefc6ea",
   "metadata": {},
   "outputs": [],
   "source": [
    "load_dotenv()\n",
    "\n",
    "GECKO_API = os.getenv(\"GECKO_API\")\n",
    "if not GECKO_API:\n",
    "    raise ValueError(\"GECKO_API environment variable is not set.\")"
   ]
  },
  {
   "cell_type": "code",
   "execution_count": null,
   "id": "6c8bc3b8",
   "metadata": {},
   "outputs": [
    {
     "name": "stdout",
     "output_type": "stream",
     "text": [
      "{\"status\":{\"error_code\":10002,\"error_message\":\"API Key Missing\"}}\n"
     ]
    }
   ],
   "source": [
    "\n",
    "url = \"https://pro-api.coingecko.com/api/v3/onchain/networks/network/tokens/token_address/pools\"\n",
    "\n",
    "headers = {\n",
    "    \"accept\": \"application/json\"\n",
    "    \"\"\n",
    "\n",
    "}\n",
    "\n",
    "response = requests.get(url, headers=headers)\n",
    "\n",
    "print(response.text)"
   ]
  }
 ],
 "metadata": {
  "kernelspec": {
   "display_name": "dexenv",
   "language": "python",
   "name": "python3"
  },
  "language_info": {
   "codemirror_mode": {
    "name": "ipython",
    "version": 3
   },
   "file_extension": ".py",
   "mimetype": "text/x-python",
   "name": "python",
   "nbconvert_exporter": "python",
   "pygments_lexer": "ipython3",
   "version": "3.12.3"
  }
 },
 "nbformat": 4,
 "nbformat_minor": 5
}
